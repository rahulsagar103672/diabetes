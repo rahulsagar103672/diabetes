{
  "nbformat": 4,
  "nbformat_minor": 0,
  "metadata": {
    "colab": {
      "provenance": []
    },
    "kernelspec": {
      "name": "python3",
      "display_name": "Python 3"
    },
    "language_info": {
      "name": "python"
    }
  },
  "cells": [
    {
      "cell_type": "markdown",
      "source": [
        "# BOYANA RAHUL\n",
        "# 21mid0103"
      ],
      "metadata": {
        "id": "hcMysdihkl5Z"
      }
    },
    {
      "cell_type": "code",
      "source": [
        "from sklearn.metrics import confusion_matrix, accuracy_score, classification_report"
      ],
      "metadata": {
        "id": "uaXEuefqPNBt"
      },
      "execution_count": null,
      "outputs": []
    },
    {
      "cell_type": "markdown",
      "source": [
        "##Data import"
      ],
      "metadata": {
        "id": "AFChpgpwSSfU"
      }
    },
    {
      "cell_type": "code",
      "source": [
        "import pandas as pd\n",
        "df=pd.read_csv(\"/content/diabetes.csv\")"
      ],
      "metadata": {
        "id": "ZN0EykosOyKP"
      },
      "execution_count": null,
      "outputs": []
    },
    {
      "cell_type": "markdown",
      "source": [
        "##Understanding the data"
      ],
      "metadata": {
        "id": "N-Lr5q6r7QLV"
      }
    },
    {
      "cell_type": "code",
      "source": [
        "df.head()"
      ],
      "metadata": {
        "id": "JNtKL-PSObKL"
      },
      "execution_count": null,
      "outputs": []
    },
    {
      "cell_type": "code",
      "source": [
        "df.shape"
      ],
      "metadata": {
        "id": "_k93XobuPAIw"
      },
      "execution_count": null,
      "outputs": []
    },
    {
      "cell_type": "code",
      "source": [
        "df.columns"
      ],
      "metadata": {
        "id": "YMxO32U3PHN_"
      },
      "execution_count": null,
      "outputs": []
    },
    {
      "cell_type": "code",
      "source": [
        "df.info()"
      ],
      "metadata": {
        "id": "doW7JY5BPP0p"
      },
      "execution_count": null,
      "outputs": []
    },
    {
      "cell_type": "code",
      "source": [
        "df.describe()"
      ],
      "metadata": {
        "id": "E82LHvlCPfa9"
      },
      "execution_count": null,
      "outputs": []
    },
    {
      "cell_type": "code",
      "source": [
        "df['Glucose'].astype(\"float64\")"
      ],
      "metadata": {
        "id": "pflwJLpQPhBC"
      },
      "execution_count": null,
      "outputs": []
    },
    {
      "cell_type": "markdown",
      "source": [
        "##Preprocessing"
      ],
      "metadata": {
        "id": "aoMnihDuSWto"
      }
    },
    {
      "cell_type": "code",
      "source": [
        "columns_to_change=['Pregnancies', 'Glucose', 'BloodPressure', 'SkinThickness', 'Insulin', 'Age', 'Outcome']\n",
        "for columns in columns_to_change:\n",
        "  df[columns]=df[columns].astype(float)"
      ],
      "metadata": {
        "id": "RT3JqPntP9uh"
      },
      "execution_count": null,
      "outputs": []
    },
    {
      "cell_type": "code",
      "source": [
        "df.info()"
      ],
      "metadata": {
        "id": "Qec8a0KvRHn3"
      },
      "execution_count": null,
      "outputs": []
    },
    {
      "cell_type": "code",
      "source": [
        "df.isnull().sum()"
      ],
      "metadata": {
        "id": "1z1SI7IABOug"
      },
      "execution_count": null,
      "outputs": []
    },
    {
      "cell_type": "markdown",
      "source": [
        "##Visualisation"
      ],
      "metadata": {
        "id": "sFIDXHh7SaRr"
      }
    },
    {
      "cell_type": "code",
      "source": [
        "import matplotlib.pyplot as plt\n",
        "import seaborn as sns\n",
        "columns=['Pregnancies', 'Glucose', 'BloodPressure', 'SkinThickness', 'Insulin',\n",
        "       'BMI', 'DiabetesPedigreeFunction', 'Age', 'Outcome']\n",
        "for i in columns:\n",
        "  sns.boxplot(y=df[i])\n",
        "  plt.show()"
      ],
      "metadata": {
        "id": "11SZEqkXRJk-"
      },
      "execution_count": null,
      "outputs": []
    },
    {
      "cell_type": "markdown",
      "source": [
        "##handling outliers\n"
      ],
      "metadata": {
        "id": "vgCLVA7WSi4N"
      }
    },
    {
      "cell_type": "code",
      "source": [
        "def remove_outliers(df, columns):\n",
        "    for column in columns:\n",
        "        Q1 = df[column].quantile(0.25)\n",
        "        Q3 = df[column].quantile(0.75)\n",
        "        IQR = Q3 - Q1\n",
        "        lower_bound = Q1 - 1.5 * IQR\n",
        "        upper_bound = Q3 + 1.5 * IQR\n",
        "        df = df[(df[column] >= lower_bound) & (df[column] <= upper_bound)]\n",
        "    return df\n",
        "# Remove outliers from the DataFrame\n",
        "df_cleaned = remove_outliers(df, columns)"
      ],
      "metadata": {
        "id": "xtd2VHsnR3U4"
      },
      "execution_count": null,
      "outputs": []
    },
    {
      "cell_type": "code",
      "source": [
        "df_cleaned.shape"
      ],
      "metadata": {
        "id": "c87J_QePWnSa"
      },
      "execution_count": null,
      "outputs": []
    },
    {
      "cell_type": "code",
      "source": [
        "df_cleaned.head()"
      ],
      "metadata": {
        "id": "f4oZ-rUmWuSW"
      },
      "execution_count": null,
      "outputs": []
    },
    {
      "cell_type": "code",
      "source": [
        "import matplotlib.pyplot as plt\n",
        "import seaborn as sns\n",
        "columns=['Pregnancies', 'Glucose', 'BloodPressure', 'SkinThickness', 'Insulin',\n",
        "       'BMI', 'DiabetesPedigreeFunction', 'Age', 'Outcome']\n",
        "for i in columns:\n",
        "  sns.boxplot(y=df_cleaned[i])\n",
        "  plt.show()"
      ],
      "metadata": {
        "id": "Cb8qSR-TbSEs"
      },
      "execution_count": null,
      "outputs": []
    },
    {
      "cell_type": "markdown",
      "source": [
        "##Correlation"
      ],
      "metadata": {
        "id": "DDfXrJV2SoRB"
      }
    },
    {
      "cell_type": "code",
      "source": [
        "df_cleaned.corr()['Outcome'].sort_values(ascending=False)"
      ],
      "metadata": {
        "id": "GpboOMb-FHJg"
      },
      "execution_count": null,
      "outputs": []
    },
    {
      "cell_type": "code",
      "source": [
        "df_cleaned['Outcome'].value_counts()"
      ],
      "metadata": {
        "id": "Br0aBUN6VfP-"
      },
      "execution_count": null,
      "outputs": []
    },
    {
      "cell_type": "code",
      "source": [
        "X=df_cleaned.drop(['Outcome','SkinThickness'],axis=1)\n",
        "Y=df_cleaned['Outcome']"
      ],
      "metadata": {
        "id": "WvCxxlCWSkc_"
      },
      "execution_count": null,
      "outputs": []
    },
    {
      "cell_type": "markdown",
      "source": [
        "##Normalization"
      ],
      "metadata": {
        "id": "2XajjFTsSryk"
      }
    },
    {
      "cell_type": "code",
      "source": [
        "from sklearn.preprocessing import MinMaxScaler\n",
        "scaler = MinMaxScaler()\n",
        "X_scaled = scaler.fit_transform(X)"
      ],
      "metadata": {
        "id": "yoxN5DghPgCJ"
      },
      "execution_count": null,
      "outputs": []
    },
    {
      "cell_type": "markdown",
      "source": [
        "##Dataset Split"
      ],
      "metadata": {
        "id": "oD7qVgUP7kNW"
      }
    },
    {
      "cell_type": "code",
      "source": [
        "from sklearn.model_selection import train_test_split\n",
        "xtrain,xtest,ytrain,ytest=train_test_split(X_scaled,Y, random_state=32,test_size=0.2)"
      ],
      "metadata": {
        "id": "79oJcD8IGo-A"
      },
      "execution_count": null,
      "outputs": []
    },
    {
      "cell_type": "code",
      "source": [
        "print(xtrain.shape)\n",
        "print(xtest.shape)\n",
        "print(ytrain.shape)\n",
        "print(ytest.shape)"
      ],
      "metadata": {
        "id": "9jFzma7LT3GX"
      },
      "execution_count": null,
      "outputs": []
    },
    {
      "cell_type": "markdown",
      "source": [
        "##Random Forest"
      ],
      "metadata": {
        "id": "m01anwyZ7doC"
      }
    },
    {
      "cell_type": "code",
      "source": [
        "from sklearn.ensemble import RandomForestClassifier\n",
        "from sklearn.metrics import accuracy_score\n",
        "model = RandomForestClassifier(random_state=1, max_depth=10)\n",
        "model.fit(xtrain, ytrain)\n",
        "\n",
        "pred_train = model.predict(xtrain)\n",
        "train_score = accuracy_score(ytrain,pred_train)\n",
        "print('train_accuracy_score',train_score)\n",
        "\n",
        "pred_val = model.predict(xtest)\n",
        "val_score = accuracy_score(ytest,pred_val)\n",
        "print('val_accuracy_score',val_score)"
      ],
      "metadata": {
        "id": "5FJPmdcFUHGr"
      },
      "execution_count": null,
      "outputs": []
    },
    {
      "cell_type": "markdown",
      "source": [
        "##Hyper parameter tuning"
      ],
      "metadata": {
        "id": "JICsPB8i71A9"
      }
    },
    {
      "cell_type": "code",
      "source": [
        "from sklearn.metrics import accuracy_score, confusion_matrix, precision_score, recall_score, ConfusionMatrixDisplay\n",
        "from sklearn.model_selection import RandomizedSearchCV\n",
        "from scipy.stats import randint\n",
        "param_dist = {'n_estimators': randint(1,1000),\n",
        "              'max_depth': randint(1,100)}\n",
        "\n",
        "rf = RandomForestClassifier()\n",
        "\n",
        "# Use random search to find the best hyperparameters\n",
        "rand_search = RandomizedSearchCV(rf,param_distributions = param_dist,n_iter=5,\n",
        "                                 cv=3)\n",
        "rand_search.fit(xtrain, ytrain)\n",
        "# Create a variable for the best model\n",
        "best_rf = rand_search.best_estimator_\n",
        "\n",
        "# Print the best hyperparameters\n",
        "print('Best hyperparameters:',  rand_search.best_params_)"
      ],
      "metadata": {
        "id": "O9aPdP4XVCv-"
      },
      "execution_count": null,
      "outputs": []
    },
    {
      "cell_type": "code",
      "source": [
        "# Generate predictions with the best model\n",
        "pred_train = best_rf.predict(xtrain)\n",
        "train_score = accuracy_score(ytrain,pred_train)\n",
        "print('train_accuracy_score',train_score)\n",
        "\n",
        "pred_val = best_rf.predict(xtest)\n",
        "val_score = accuracy_score(ytest,pred_val)\n",
        "print('val_accuracy_score',val_score)"
      ],
      "metadata": {
        "id": "5WZzndkCWQuL"
      },
      "execution_count": null,
      "outputs": []
    },
    {
      "cell_type": "code",
      "source": [
        "#Classification for test before hyperparameter tuning\n",
        "from sklearn.metrics import classification_report\n",
        "print(classification_report(ytest,pred_val))"
      ],
      "metadata": {
        "id": "t_nCYmT7EOs5"
      },
      "execution_count": null,
      "outputs": []
    },
    {
      "cell_type": "markdown",
      "source": [
        "##Decisiontree\n"
      ],
      "metadata": {
        "id": "uMSXwuL4ldi-"
      }
    },
    {
      "cell_type": "code",
      "source": [
        "\n",
        "from sklearn.tree import DecisionTreeClassifier\n",
        "from sklearn.model_selection import cross_val_score\n",
        "dt = DecisionTreeClassifier(max_depth=3, min_samples_leaf=10, random_state=1 )\n",
        "scores = cross_val_score(dt, xtrain, ytrain, cv=5)\n",
        "print(scores)\n",
        "print(scores.mean())\n"
      ],
      "metadata": {
        "id": "lZPXsEQ_WhIr"
      },
      "execution_count": null,
      "outputs": []
    },
    {
      "cell_type": "code",
      "source": [
        "# Defining an object for DTC and fitting for train dataset\n",
        "dt = DecisionTreeClassifier(random_state=1)\n",
        "dt.fit(xtrain, ytrain)\n",
        "\n",
        "y_pred_train = dt.predict(xtrain)\n",
        "y_pred = dt.predict(xtest)\n"
      ],
      "metadata": {
        "id": "rH7AoC2jkwhQ"
      },
      "execution_count": null,
      "outputs": []
    },
    {
      "cell_type": "code",
      "source": [
        "print('Accuracy of Decision Tree-Train: ', accuracy_score(y_pred_train, ytrain))\n",
        "print('Accuracy of Decision Tree-Test: ', accuracy_score(y_pred, ytest))"
      ],
      "metadata": {
        "id": "n1Wkj2pnk0_k"
      },
      "execution_count": null,
      "outputs": []
    },
    {
      "cell_type": "code",
      "source": [
        "#Classification for test before hyperparameter tuning\n",
        "from sklearn.metrics import classification_report\n",
        "print(classification_report(ytest,y_pred))"
      ],
      "metadata": {
        "id": "TZFkNmDjlDr3"
      },
      "execution_count": null,
      "outputs": []
    },
    {
      "cell_type": "markdown",
      "source": [
        "##After hyper parameter tuning"
      ],
      "metadata": {
        "id": "PWmaGvo6m0bf"
      }
    },
    {
      "cell_type": "code",
      "source": [
        "dt = DecisionTreeClassifier(random_state=1)\n",
        "\n",
        "params = {'max_depth' : randint(1,300),\n",
        "        'min_samples_split': randint(1,300),\n",
        "        'min_samples_leaf': (1,300)}\n",
        "\n",
        "rand_search1 = RandomizedSearchCV(rf,\n",
        "                                 param_distributions = params,\n",
        "                                 n_iter=3,\n",
        "                                 cv=3)\n",
        "rand_search1.fit(xtrain, ytrain)\n",
        "# Create a variable for the best model\n",
        "#best_rf = rand_search1.best_estimator_\n",
        "\n",
        "# Print the best hyperparameters\n",
        "print('Best hyperparameters:',  rand_search1.best_params_)"
      ],
      "metadata": {
        "id": "y1MG40rrlOT6"
      },
      "execution_count": null,
      "outputs": []
    },
    {
      "cell_type": "code",
      "source": [
        "# Passing best parameter for the Hyperparameter Tuning\n",
        "dt = DecisionTreeClassifier(**rand_search1.best_params_, random_state=1)\n",
        "\n",
        "dt.fit(xtrain, ytrain)\n",
        "\n",
        "y_pred_train = dt.predict(xtrain)\n",
        "y_prob_train = dt.predict_proba(xtrain)[:,1]\n",
        "\n",
        "y_pred = dt.predict(xtest)\n",
        "y_prob = dt.predict_proba(xtest)[:,1]"
      ],
      "metadata": {
        "id": "nWxI1SsxmIfF"
      },
      "execution_count": null,
      "outputs": []
    },
    {
      "cell_type": "code",
      "source": [
        "print('Accuracy of Decision Tree-Train: ', accuracy_score(y_pred_train, ytrain))\n",
        "print('Accuracy of Decision Tree-Test: ', accuracy_score(y_pred, ytest))"
      ],
      "metadata": {
        "id": "9Qt0Oz00mgzW"
      },
      "execution_count": null,
      "outputs": []
    },
    {
      "cell_type": "code",
      "source": [
        "#Classification for test after hyperparameter tuning\n",
        "print(classification_report(ytest,y_pred))"
      ],
      "metadata": {
        "id": "AEIGMcNSmlRl"
      },
      "execution_count": null,
      "outputs": []
    },
    {
      "cell_type": "markdown",
      "source": [
        "##svm"
      ],
      "metadata": {
        "id": "2tqvAlWwtVgj"
      }
    },
    {
      "cell_type": "code",
      "source": [
        "#Import svm model\n",
        "from sklearn import svm\n",
        "\n",
        "#Create a svm Classifier\n",
        "#clf = svm.SVC(kernel='linear') # Linear Kernel\n",
        "clf = svm.SVC(kernel='poly', degree = 2) # Polynomial Kernel\n",
        "#clf = svm.SVC(kernel='rbf', gamma = 0.5) # Radial Basis Function Kernel\n",
        "#clf = svm.SVC(kernel='rbf', gamma = 0.5, C = 2) # Radial Basis Function Kernel\n",
        "\n",
        "#Train the model using the training sets\n",
        "clf.fit(xtrain, ytrain)\n",
        "\n",
        "#Predict the response for test dataset\n",
        "y_pred = clf.predict(xtest)"
      ],
      "metadata": {
        "id": "EFIm4ti9mqGP"
      },
      "execution_count": null,
      "outputs": []
    },
    {
      "cell_type": "code",
      "source": [
        "# Model Accuracy: how often is the classifier correct?\n",
        "\n",
        "print(\"Accuracy:\",accuracy_score(ytest, y_pred))\n",
        "#Classification for test before hyperparameter tuning\n",
        "from sklearn.metrics import classification_report\n",
        "print(classification_report(ytest,y_pred))\n"
      ],
      "metadata": {
        "id": "Tj-k4UGEtfK5"
      },
      "execution_count": null,
      "outputs": []
    },
    {
      "cell_type": "code",
      "source": [
        "# Performing CV to tune parameters for best SVM fit\n",
        "paramssvm = {'C' : randint(1,100),\n",
        "             'degree' : randint(1,100)}\n",
        "\n",
        "rand_search2 = RandomizedSearchCV(clf,param_distributions = paramssvm,\n",
        "                                 n_iter=3,\n",
        "                                 cv=3)\n",
        "rand_search2.fit(xtrain, ytrain)\n",
        "# Print the best hyperparameters\n",
        "print('Best hyperparameters:',  rand_search2.best_params_)"
      ],
      "metadata": {
        "id": "nvjT7eoo8s4k"
      },
      "execution_count": null,
      "outputs": []
    },
    {
      "cell_type": "code",
      "source": [
        "# Predict using tuned parameter\n",
        "final_model = rand_search2.best_estimator_\n",
        "Y_pred = final_model.predict(xtest)\n",
        "\n",
        "pol_accuracy = accuracy_score(ytest, Y_pred)\n",
        "#rbf_f1 = f1_score(ytest, Y_pred, average='weighted')\n",
        "\n",
        "print('Accuracy (poly Kernel): ', \"%.2f\" % (pol_accuracy*100))\n"
      ],
      "metadata": {
        "id": "mW-eKQDnAi2N"
      },
      "execution_count": null,
      "outputs": []
    },
    {
      "cell_type": "markdown",
      "source": [
        "##Neural network"
      ],
      "metadata": {
        "id": "yKMfSCCjS3If"
      }
    },
    {
      "cell_type": "code",
      "source": [
        "from keras.models import Sequential\n",
        "from keras.layers import Dense\n",
        "model=Sequential()\n",
        "\n",
        "#input\n",
        "model.add(Dense(7,activation=\"relu\"))\n",
        "\n",
        "#hidden layers\n",
        "model.add(Dense(64,activation=\"relu\"))\n",
        "#model.add(Dense(64,activation=\"relu\"))\n",
        "\n",
        "\n",
        "#output\n",
        "model.add(Dense(1,activation='sigmoid'))\n",
        "\n",
        "model.compile(optimizer='adam',loss='categorical_crossentropy', metrics=['accuracy'])"
      ],
      "metadata": {
        "id": "s8vAAzwi_KRW"
      },
      "execution_count": null,
      "outputs": []
    },
    {
      "cell_type": "code",
      "source": [
        "model.fit(x=xtrain,y=ytrain.values,validation_data=(xtest,ytest.values),batch_size=32,epochs=10)\n",
        "model.summary()"
      ],
      "metadata": {
        "id": "h1HTcsUWKqN1"
      },
      "execution_count": null,
      "outputs": []
    },
    {
      "cell_type": "code",
      "source": [
        "loss_df=pd.DataFrame(model.history.history)\n",
        "loss_df.plot(figsize=(12,6))\n",
        "plt.title(\"Traing loss and validation loss\")"
      ],
      "metadata": {
        "id": "50mvFbtCLzDP"
      },
      "execution_count": null,
      "outputs": []
    },
    {
      "cell_type": "code",
      "source": [
        "import numpy as np\n",
        "#Train your model using x_train_scaled and y_train\n",
        "#Training data\n",
        "from sklearn.metrics import mean_squared_error\n",
        "from sklearn.metrics import mean_absolute_error\n",
        "y_tpred=model.predict(xtrain)\n",
        "tmse = mean_squared_error(ytrain, y_tpred)\n",
        "trmse = np.sqrt(tmse)\n",
        "print(\"Training Mean Squared Error:\", tmse)\n",
        "print(\"Training Root Mean Squared Error:\", trmse)\n",
        "\n",
        "# Make predictions on test data\n",
        "y_pred = model.predict(xtest)\n",
        "\n",
        "# Calculate metrics\n",
        "mse = mean_squared_error(ytest, y_pred)\n",
        "rmse = np.sqrt(mse)\n",
        "mae = mean_absolute_error(ytest, y_pred)\n",
        "\n",
        "print(\"Mean Squared Error:\", mse)\n",
        "print(\"Root Mean Squared Error:\", rmse)\n",
        "print(\"Mean Absolute Error:\", mae)\n"
      ],
      "metadata": {
        "id": "su_9MGqFMCz5"
      },
      "execution_count": null,
      "outputs": []
    },
    {
      "cell_type": "code",
      "source": [],
      "metadata": {
        "id": "5bkTtrUhiKQE"
      },
      "execution_count": null,
      "outputs": []
    }
  ]
}